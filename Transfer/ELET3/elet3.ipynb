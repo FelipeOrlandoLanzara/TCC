{
 "cells": [
  {
   "cell_type": "code",
   "execution_count": null,
   "id": "e8572392",
   "metadata": {},
   "outputs": [],
   "source": [
    "from pathlib import Path\n",
    "import json, numpy as np\n",
    "import matplotlib.pyplot as plt\n",
    "from sklearn.metrics import r2_score\n",
    "\n",
    "# >>> ajuste apenas isto por notebook <<<\n",
    "TICKER = \"BBAS3\"\n",
    "OUT_ROOT = \"ModelosTransfer\"\n",
    "\n",
    "out_dir = Path(OUT_ROOT) / TICKER\n",
    "y_true = np.load(out_dir / \"y_test_real.npy\")\n",
    "y_pred = np.load(out_dir / \"y_pred_real.npy\")"
   ]
  },
  {
   "cell_type": "code",
   "execution_count": null,
   "id": "fa5b59fd",
   "metadata": {},
   "outputs": [],
   "source": [
    "def mape(y_true, y_pred):\n",
    "    y_true = np.asarray(y_true).reshape(-1)\n",
    "    y_pred = np.asarray(y_pred).reshape(-1)\n",
    "    denom = np.where(np.abs(y_true) < 1e-8, np.nan, y_true)\n",
    "    return float(np.nanmean(np.abs((y_true - y_pred) / denom)) * 100.0)\n",
    "\n",
    "rmse = float(np.sqrt(np.mean((y_true - y_pred) ** 2)))\n",
    "mae  = float(np.mean(np.abs(y_true - y_pred)))\n",
    "r2   = float(r2_score(y_true, y_pred))\n",
    "mape_ = mape(y_true, y_pred)\n",
    "\n",
    "metrics = {\"R2\": r2, \"RMSE\": rmse, \"MAE\": mae, \"MAPE_%\": mape_}\n",
    "metrics\n"
   ]
  },
  {
   "cell_type": "code",
   "execution_count": null,
   "id": "66bf147e",
   "metadata": {},
   "outputs": [],
   "source": [
    "plt.figure(figsize=(10, 4))\n",
    "plt.plot(y_true, label=\"Real\")\n",
    "plt.plot(y_pred, label=\"Previsto\")\n",
    "plt.title(f\"{TICKER} – Real vs Previsto (R²={metrics['R2']:.3f})\")\n",
    "plt.xlabel(\"Índice no conjunto de teste\")\n",
    "plt.ylabel(\"Preço\")\n",
    "plt.legend()\n",
    "plt.show()\n"
   ]
  },
  {
   "cell_type": "code",
   "execution_count": null,
   "id": "81140f9e",
   "metadata": {},
   "outputs": [],
   "source": [
    "plt.figure(figsize=(5, 5))\n",
    "plt.scatter(y_true, y_pred, s=10, alpha=0.7)\n",
    "lims = [min(np.min(y_true), np.min(y_pred)), max(np.max(y_true), np.max(y_pred))]\n",
    "plt.plot(lims, lims, linestyle=\"--\")\n",
    "plt.title(f\"{TICKER} – Dispersão\")\n",
    "plt.xlabel(\"Real\")\n",
    "plt.ylabel(\"Previsto\")\n",
    "plt.show()\n"
   ]
  },
  {
   "cell_type": "code",
   "execution_count": null,
   "id": "b655947a",
   "metadata": {},
   "outputs": [],
   "source": [
    "res = y_true - y_pred\n",
    "plt.figure(figsize=(10, 3.5))\n",
    "plt.plot(res)\n",
    "plt.axhline(0, linestyle=\"--\")\n",
    "plt.title(f\"{TICKER} – Resíduos (Real - Previsto)\")\n",
    "plt.xlabel(\"Índice no conjunto de teste\")\n",
    "plt.ylabel(\"Resíduo\")\n",
    "plt.show()\n"
   ]
  }
 ],
 "metadata": {
  "kernelspec": {
   "display_name": ".venv",
   "language": "python",
   "name": "python3"
  },
  "language_info": {
   "codemirror_mode": {
    "name": "ipython",
    "version": 3
   },
   "file_extension": ".py",
   "mimetype": "text/x-python",
   "name": "python",
   "nbconvert_exporter": "python",
   "pygments_lexer": "ipython3",
   "version": "3.11.9"
  }
 },
 "nbformat": 4,
 "nbformat_minor": 5
}
