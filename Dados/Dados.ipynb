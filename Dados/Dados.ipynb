{
  "nbformat": 4,
  "nbformat_minor": 0,
  "metadata": {
    "colab": {
      "provenance": []
    },
    "kernelspec": {
      "name": "python3",
      "display_name": "Python 3"
    },
    "language_info": {
      "name": "python"
    }
  },
  "cells": [
    {
      "cell_type": "code",
      "execution_count": 25,
      "metadata": {
        "colab": {
          "base_uri": "https://localhost:8080/"
        },
        "id": "qADpVRNFkdTI",
        "outputId": "9c75b7d3-bc70-4bda-e8c6-fbebac994056"
      },
      "outputs": [
        {
          "output_type": "stream",
          "name": "stdout",
          "text": [
            "Requirement already satisfied: yfinance in /usr/local/lib/python3.11/dist-packages (0.2.65)\n",
            "Requirement already satisfied: pandas>=1.3.0 in /usr/local/lib/python3.11/dist-packages (from yfinance) (2.2.2)\n",
            "Requirement already satisfied: numpy>=1.16.5 in /usr/local/lib/python3.11/dist-packages (from yfinance) (2.0.2)\n",
            "Requirement already satisfied: requests>=2.31 in /usr/local/lib/python3.11/dist-packages (from yfinance) (2.32.3)\n",
            "Requirement already satisfied: multitasking>=0.0.7 in /usr/local/lib/python3.11/dist-packages (from yfinance) (0.0.12)\n",
            "Requirement already satisfied: platformdirs>=2.0.0 in /usr/local/lib/python3.11/dist-packages (from yfinance) (4.3.8)\n",
            "Requirement already satisfied: pytz>=2022.5 in /usr/local/lib/python3.11/dist-packages (from yfinance) (2025.2)\n",
            "Requirement already satisfied: frozendict>=2.3.4 in /usr/local/lib/python3.11/dist-packages (from yfinance) (2.4.6)\n",
            "Requirement already satisfied: peewee>=3.16.2 in /usr/local/lib/python3.11/dist-packages (from yfinance) (3.18.2)\n",
            "Requirement already satisfied: beautifulsoup4>=4.11.1 in /usr/local/lib/python3.11/dist-packages (from yfinance) (4.13.4)\n",
            "Requirement already satisfied: curl_cffi>=0.7 in /usr/local/lib/python3.11/dist-packages (from yfinance) (0.12.0)\n",
            "Requirement already satisfied: protobuf>=3.19.0 in /usr/local/lib/python3.11/dist-packages (from yfinance) (5.29.5)\n",
            "Requirement already satisfied: websockets>=13.0 in /usr/local/lib/python3.11/dist-packages (from yfinance) (15.0.1)\n",
            "Requirement already satisfied: soupsieve>1.2 in /usr/local/lib/python3.11/dist-packages (from beautifulsoup4>=4.11.1->yfinance) (2.7)\n",
            "Requirement already satisfied: typing-extensions>=4.0.0 in /usr/local/lib/python3.11/dist-packages (from beautifulsoup4>=4.11.1->yfinance) (4.14.1)\n",
            "Requirement already satisfied: cffi>=1.12.0 in /usr/local/lib/python3.11/dist-packages (from curl_cffi>=0.7->yfinance) (1.17.1)\n",
            "Requirement already satisfied: certifi>=2024.2.2 in /usr/local/lib/python3.11/dist-packages (from curl_cffi>=0.7->yfinance) (2025.7.14)\n",
            "Requirement already satisfied: python-dateutil>=2.8.2 in /usr/local/lib/python3.11/dist-packages (from pandas>=1.3.0->yfinance) (2.9.0.post0)\n",
            "Requirement already satisfied: tzdata>=2022.7 in /usr/local/lib/python3.11/dist-packages (from pandas>=1.3.0->yfinance) (2025.2)\n",
            "Requirement already satisfied: charset-normalizer<4,>=2 in /usr/local/lib/python3.11/dist-packages (from requests>=2.31->yfinance) (3.4.2)\n",
            "Requirement already satisfied: idna<4,>=2.5 in /usr/local/lib/python3.11/dist-packages (from requests>=2.31->yfinance) (3.10)\n",
            "Requirement already satisfied: urllib3<3,>=1.21.1 in /usr/local/lib/python3.11/dist-packages (from requests>=2.31->yfinance) (2.5.0)\n",
            "Requirement already satisfied: pycparser in /usr/local/lib/python3.11/dist-packages (from cffi>=1.12.0->curl_cffi>=0.7->yfinance) (2.22)\n",
            "Requirement already satisfied: six>=1.5 in /usr/local/lib/python3.11/dist-packages (from python-dateutil>=2.8.2->pandas>=1.3.0->yfinance) (1.17.0)\n",
            "Requirement already satisfied: python-bcb==0.3.3 in /usr/local/lib/python3.11/dist-packages (0.3.3)\n",
            "Requirement already satisfied: httpx>=0.24.0 in /usr/local/lib/python3.11/dist-packages (from python-bcb==0.3.3) (0.28.1)\n",
            "Requirement already satisfied: lxml>=4.9.2 in /usr/local/lib/python3.11/dist-packages (from python-bcb==0.3.3) (5.4.0)\n",
            "Requirement already satisfied: pandas>=2.0.0 in /usr/local/lib/python3.11/dist-packages (from python-bcb==0.3.3) (2.2.2)\n",
            "Requirement already satisfied: requests>=2.31.0 in /usr/local/lib/python3.11/dist-packages (from python-bcb==0.3.3) (2.32.3)\n",
            "Requirement already satisfied: anyio in /usr/local/lib/python3.11/dist-packages (from httpx>=0.24.0->python-bcb==0.3.3) (4.9.0)\n",
            "Requirement already satisfied: certifi in /usr/local/lib/python3.11/dist-packages (from httpx>=0.24.0->python-bcb==0.3.3) (2025.7.14)\n",
            "Requirement already satisfied: httpcore==1.* in /usr/local/lib/python3.11/dist-packages (from httpx>=0.24.0->python-bcb==0.3.3) (1.0.9)\n",
            "Requirement already satisfied: idna in /usr/local/lib/python3.11/dist-packages (from httpx>=0.24.0->python-bcb==0.3.3) (3.10)\n",
            "Requirement already satisfied: h11>=0.16 in /usr/local/lib/python3.11/dist-packages (from httpcore==1.*->httpx>=0.24.0->python-bcb==0.3.3) (0.16.0)\n",
            "Requirement already satisfied: numpy>=1.23.2 in /usr/local/lib/python3.11/dist-packages (from pandas>=2.0.0->python-bcb==0.3.3) (2.0.2)\n",
            "Requirement already satisfied: python-dateutil>=2.8.2 in /usr/local/lib/python3.11/dist-packages (from pandas>=2.0.0->python-bcb==0.3.3) (2.9.0.post0)\n",
            "Requirement already satisfied: pytz>=2020.1 in /usr/local/lib/python3.11/dist-packages (from pandas>=2.0.0->python-bcb==0.3.3) (2025.2)\n",
            "Requirement already satisfied: tzdata>=2022.7 in /usr/local/lib/python3.11/dist-packages (from pandas>=2.0.0->python-bcb==0.3.3) (2025.2)\n",
            "Requirement already satisfied: charset-normalizer<4,>=2 in /usr/local/lib/python3.11/dist-packages (from requests>=2.31.0->python-bcb==0.3.3) (3.4.2)\n",
            "Requirement already satisfied: urllib3<3,>=1.21.1 in /usr/local/lib/python3.11/dist-packages (from requests>=2.31.0->python-bcb==0.3.3) (2.5.0)\n",
            "Requirement already satisfied: six>=1.5 in /usr/local/lib/python3.11/dist-packages (from python-dateutil>=2.8.2->pandas>=2.0.0->python-bcb==0.3.3) (1.17.0)\n",
            "Requirement already satisfied: sniffio>=1.1 in /usr/local/lib/python3.11/dist-packages (from anyio->httpx>=0.24.0->python-bcb==0.3.3) (1.3.1)\n",
            "Requirement already satisfied: typing_extensions>=4.5 in /usr/local/lib/python3.11/dist-packages (from anyio->httpx>=0.24.0->python-bcb==0.3.3) (4.14.1)\n"
          ]
        }
      ],
      "source": [
        "## Instalações\n",
        "\n",
        "# Acessar os valores das ações, petróleo (brent), ibovespa e minério de ferro\n",
        "!pip install yfinance\n",
        "\n",
        "# Acessar a variável de entrada do fechamento do dólar\n",
        "!pip install python-bcb==0.3.3"
      ]
    },
    {
      "cell_type": "code",
      "source": [
        "## Bibliotecas\n",
        "\n",
        "# Pre Processamento dos dados\n",
        "import pandas as pd\n",
        "import numpy as np\n",
        "\n",
        "# Download das Ações\n",
        "import yfinance as yf\n",
        "from bcb import sgs\n",
        "\n",
        "# Montagem dos Dados\n",
        "from sklearn.preprocessing import MinMaxScaler\n",
        "from sklearn.model_selection import train_test_split\n",
        "\n",
        "# Baixar os Dados já montados\n",
        "import joblib\n",
        "import os"
      ],
      "metadata": {
        "id": "moLLPLyCl1Ct"
      },
      "execution_count": 26,
      "outputs": []
    },
    {
      "cell_type": "code",
      "source": [
        "## Definição de Variáveis fixas\n",
        "\n",
        "acao = ''\n",
        "start = '2016-01-01'\n",
        "end = '2025-06-25'\n",
        "\n",
        "ticker = f'{acao}.SA'"
      ],
      "metadata": {
        "id": "TafQqC7dqWQV"
      },
      "execution_count": 27,
      "outputs": []
    },
    {
      "cell_type": "code",
      "source": [
        "## Definição das Features fixas\n",
        "\n",
        "# Dólar\n",
        "dolar = sgs.get({'Close_Dolar': 1}, start=start, end=end).reset_index() # Faz com que Date deixe de ser index e passe a ser uma coluna junto ao Close_Dolar\n",
        "dolar['Date'] = pd.to_datetime(dolar['Date']) # Muda o type da coluna Date para Datetime para ficar igual as demais variáveis\n",
        "dolar.set_index('Date', inplace=True) # Retorna Date para index, pois é assim que as demais variáveis estão\n",
        "\n",
        "# Petróleo (WTI) pelo Yahoo Finance\n",
        "petroleo = yf.download('CL=F', start=start, end=end)[['Close']] # Preço do barril de petróleo WTI\n",
        "petroleo.columns = ['Close_Petroleo']\n",
        "\n",
        "# Ibovespa\n",
        "ibov = yf.download('^BVSP', start=start, end=end)[['Close']] # Índice ibovespa\n",
        "ibov.columns = ['Close_Ibovespa']\n",
        "\n",
        "# Minério de Ferro (supondo índice internacional)\n",
        "minerio = yf.download('RIO', start=start, end=end)[['Close']] # Ação da mineradora Rio Tinto\n",
        "minerio.columns = ['Close_Minerio']"
      ],
      "metadata": {
        "colab": {
          "base_uri": "https://localhost:8080/"
        },
        "id": "Rwte1vW_sIRA",
        "outputId": "0646e6bb-7c17-4c20-974a-89aea67efa7e"
      },
      "execution_count": 28,
      "outputs": [
        {
          "output_type": "stream",
          "name": "stderr",
          "text": [
            "/tmp/ipython-input-3893755857.py:9: FutureWarning: YF.download() has changed argument auto_adjust default to True\n",
            "  petroleo = yf.download('CL=F', start=start, end=end)[['Close']] # Preço do barril de petróleo WTI\n",
            "[*********************100%***********************]  1 of 1 completed\n",
            "/tmp/ipython-input-3893755857.py:13: FutureWarning: YF.download() has changed argument auto_adjust default to True\n",
            "  ibov = yf.download('^BVSP', start=start, end=end)[['Close']] # Índice ibovespa\n",
            "[*********************100%***********************]  1 of 1 completed\n",
            "/tmp/ipython-input-3893755857.py:17: FutureWarning: YF.download() has changed argument auto_adjust default to True\n",
            "  minerio = yf.download('RIO', start=start, end=end)[['Close']] # Ação da mineradora Rio Tinto\n",
            "[*********************100%***********************]  1 of 1 completed\n"
          ]
        }
      ]
    },
    {
      "cell_type": "code",
      "source": [
        "## Funções\n",
        "\n",
        "def baixar_dados_acao(acao, start, end):\n",
        "    df = yf.download(f'{acao}.SA', start=start, end=end)[['Close', 'Volume']]\n",
        "    df.columns = [f'Close_{acao}', f'Volume_{acao}']\n",
        "    return df\n",
        "\n",
        "def preparar_dataframe_completo(df_acao, dolar, petroleo, ibov, minerio):\n",
        "    df = df_acao.copy()\n",
        "    df = df.merge(dolar, left_index=True, right_index=True, how='left')\n",
        "    df = df.merge(petroleo, left_index=True, right_index=True, how='left')\n",
        "    df = df.merge(ibov, left_index=True, right_index=True, how='left')\n",
        "    df = df.merge(minerio, left_index=True, right_index=True, how='left')\n",
        "    df.dropna(inplace=True)\n",
        "    return df\n",
        "\n",
        "def normalizar_e_salvar(df, acao):\n",
        "    scaler = MinMaxScaler()\n",
        "    dados_escalados = scaler.fit_transform(df)\n",
        "    joblib.dump(scaler, f'./{acao}/scaler_{acao}.pkl')\n",
        "    return dados_escalados, scaler\n",
        "\n",
        "def createXY(dataset, n_past):\n",
        "    dataX, dataY = [], []\n",
        "    for i in range(n_past, len(dataset)):\n",
        "        dataX.append(dataset[i - n_past:i, :])\n",
        "        dataY.append(dataset[i, 0])\n",
        "    return np.array(dataX), np.array(dataY)\n",
        "\n",
        "def gerar_janelas_e_salvar(dados_escalados, df, acao, janela=21):\n",
        "    X, y = createXY(dados_escalados, janela)\n",
        "    y_real = df.iloc[janela:][f'Close_{acao}'].values.reshape(-1, 1)\n",
        "\n",
        "    split = int(len(X) * 0.8)\n",
        "    X_train, X_test = X[:split], X[split:]\n",
        "    y_train, y_test = y[:split], y[split:]\n",
        "    y_real_train, y_real_test = y_real[:split], y_real[split:]\n",
        "\n",
        "    np.save(f'./{acao}/X_train_{acao}.npy', X_train)\n",
        "    np.save(f'./{acao}/y_train_{acao}.npy', y_train)\n",
        "    np.save(f'./{acao}/X_test_{acao}.npy', X_test)\n",
        "    np.save(f'./{acao}/y_test_{acao}.npy', y_test)\n",
        "    np.save(f'./{acao}/y_real_{acao}.npy', y_real_test)"
      ],
      "metadata": {
        "id": "Ol0Uhfic3gIN"
      },
      "execution_count": 29,
      "outputs": []
    },
    {
      "cell_type": "markdown",
      "source": [
        "## AÇÃO DA ABEV3\n"
      ],
      "metadata": {
        "id": "c8qRM13ssYfG"
      }
    },
    {
      "cell_type": "code",
      "source": [
        "acao = 'ABEV3'\n",
        "\n",
        "os.makedirs(f'{acao}', exist_ok=True)\n",
        "\n",
        "abev = baixar_dados_acao(acao, start, end)\n",
        "df_abev3 = preparar_dataframe_completo(abev, dolar, petroleo, ibov, minerio)\n",
        "dados_escalados, scaler = normalizar_e_salvar(df_abev3, acao)\n",
        "gerar_janelas_e_salvar(dados_escalados, df_abev3, acao)"
      ],
      "metadata": {
        "colab": {
          "base_uri": "https://localhost:8080/"
        },
        "id": "E7S0tYM44G7c",
        "outputId": "08e7da2d-4182-45d9-f91f-385907bdedc2"
      },
      "execution_count": 30,
      "outputs": [
        {
          "output_type": "stream",
          "name": "stderr",
          "text": [
            "/tmp/ipython-input-3925094849.py:4: FutureWarning: YF.download() has changed argument auto_adjust default to True\n",
            "  df = yf.download(f'{acao}.SA', start=start, end=end)[['Close', 'Volume']]\n",
            "\r[*********************100%***********************]  1 of 1 completed\n"
          ]
        }
      ]
    },
    {
      "cell_type": "markdown",
      "source": [
        "## AÇÃO DA B3SA3"
      ],
      "metadata": {
        "id": "iDZhA-Ez116k"
      }
    },
    {
      "cell_type": "code",
      "source": [
        "acao = 'B3SA3'\n",
        "\n",
        "os.makedirs(f'{acao}', exist_ok=True)\n",
        "\n",
        "abev = baixar_dados_acao(acao, start, end)\n",
        "df_abev3 = preparar_dataframe_completo(abev, dolar, petroleo, ibov, minerio)\n",
        "dados_escalados, scaler = normalizar_e_salvar(df_abev3, acao)\n",
        "gerar_janelas_e_salvar(dados_escalados, df_abev3, acao)"
      ],
      "metadata": {
        "id": "f7Y_EuQB7mSE",
        "colab": {
          "base_uri": "https://localhost:8080/"
        },
        "outputId": "62e85e42-4022-4a74-f919-f39bd9b52536"
      },
      "execution_count": 31,
      "outputs": [
        {
          "output_type": "stream",
          "name": "stderr",
          "text": [
            "/tmp/ipython-input-3925094849.py:4: FutureWarning: YF.download() has changed argument auto_adjust default to True\n",
            "  df = yf.download(f'{acao}.SA', start=start, end=end)[['Close', 'Volume']]\n",
            "[*********************100%***********************]  1 of 1 completed\n"
          ]
        }
      ]
    },
    {
      "cell_type": "markdown",
      "source": [
        "## AÇÃO DA BBAS3"
      ],
      "metadata": {
        "id": "Odt_5dgp7nnx"
      }
    },
    {
      "cell_type": "code",
      "source": [
        "acao = 'BBAS3'\n",
        "\n",
        "os.makedirs(f'{acao}', exist_ok=True)\n",
        "\n",
        "abev = baixar_dados_acao(acao, start, end)\n",
        "df_abev3 = preparar_dataframe_completo(abev, dolar, petroleo, ibov, minerio)\n",
        "dados_escalados, scaler = normalizar_e_salvar(df_abev3, acao)\n",
        "gerar_janelas_e_salvar(dados_escalados, df_abev3, acao)"
      ],
      "metadata": {
        "id": "K-HccY5s7oD2",
        "colab": {
          "base_uri": "https://localhost:8080/"
        },
        "outputId": "b4ef52c1-9f1c-494f-b999-11144f6eda8d"
      },
      "execution_count": 32,
      "outputs": [
        {
          "output_type": "stream",
          "name": "stderr",
          "text": [
            "/tmp/ipython-input-3925094849.py:4: FutureWarning: YF.download() has changed argument auto_adjust default to True\n",
            "  df = yf.download(f'{acao}.SA', start=start, end=end)[['Close', 'Volume']]\n",
            "[*********************100%***********************]  1 of 1 completed\n"
          ]
        }
      ]
    },
    {
      "cell_type": "markdown",
      "source": [
        "## AÇÃO DA BBDC4"
      ],
      "metadata": {
        "id": "Sd6ne2QP7oYl"
      }
    },
    {
      "cell_type": "code",
      "source": [
        "acao = 'BBDC4'\n",
        "\n",
        "os.makedirs(f'{acao}', exist_ok=True)\n",
        "\n",
        "abev = baixar_dados_acao(acao, start, end)\n",
        "df_abev3 = preparar_dataframe_completo(abev, dolar, petroleo, ibov, minerio)\n",
        "dados_escalados, scaler = normalizar_e_salvar(df_abev3, acao)\n",
        "gerar_janelas_e_salvar(dados_escalados, df_abev3, acao)"
      ],
      "metadata": {
        "id": "Uk7K3pGU7onw",
        "colab": {
          "base_uri": "https://localhost:8080/"
        },
        "outputId": "1ce2214a-50fa-4a75-ec5f-fd97338eb0e2"
      },
      "execution_count": 33,
      "outputs": [
        {
          "output_type": "stream",
          "name": "stderr",
          "text": [
            "/tmp/ipython-input-3925094849.py:4: FutureWarning: YF.download() has changed argument auto_adjust default to True\n",
            "  df = yf.download(f'{acao}.SA', start=start, end=end)[['Close', 'Volume']]\n",
            "[*********************100%***********************]  1 of 1 completed\n"
          ]
        }
      ]
    },
    {
      "cell_type": "markdown",
      "source": [
        "## AÇÃO DA ELET3"
      ],
      "metadata": {
        "id": "46QN0TkU7o28"
      }
    },
    {
      "cell_type": "code",
      "source": [
        "acao = 'ELET3'\n",
        "\n",
        "os.makedirs(f'{acao}', exist_ok=True)\n",
        "\n",
        "abev = baixar_dados_acao(acao, start, end)\n",
        "df_abev3 = preparar_dataframe_completo(abev, dolar, petroleo, ibov, minerio)\n",
        "dados_escalados, scaler = normalizar_e_salvar(df_abev3, acao)\n",
        "gerar_janelas_e_salvar(dados_escalados, df_abev3, acao)"
      ],
      "metadata": {
        "id": "KB0GlFlt7o-E",
        "colab": {
          "base_uri": "https://localhost:8080/"
        },
        "outputId": "3e549847-0caf-411d-cc20-f67ead2cb68e"
      },
      "execution_count": 34,
      "outputs": [
        {
          "output_type": "stream",
          "name": "stderr",
          "text": [
            "/tmp/ipython-input-3925094849.py:4: FutureWarning: YF.download() has changed argument auto_adjust default to True\n",
            "  df = yf.download(f'{acao}.SA', start=start, end=end)[['Close', 'Volume']]\n",
            "[*********************100%***********************]  1 of 1 completed\n"
          ]
        }
      ]
    },
    {
      "cell_type": "markdown",
      "source": [
        "## AÇÃO DA ITUB4"
      ],
      "metadata": {
        "id": "R-rMQcsw7pFj"
      }
    },
    {
      "cell_type": "code",
      "source": [
        "acao = 'ITUB4'\n",
        "\n",
        "os.makedirs(f'{acao}', exist_ok=True)\n",
        "\n",
        "abev = baixar_dados_acao(acao, start, end)\n",
        "df_abev3 = preparar_dataframe_completo(abev, dolar, petroleo, ibov, minerio)\n",
        "dados_escalados, scaler = normalizar_e_salvar(df_abev3, acao)\n",
        "gerar_janelas_e_salvar(dados_escalados, df_abev3, acao)"
      ],
      "metadata": {
        "id": "kng5CuvX7pMa",
        "colab": {
          "base_uri": "https://localhost:8080/"
        },
        "outputId": "e67c26cd-8557-4a71-a90d-2bc473815317"
      },
      "execution_count": 35,
      "outputs": [
        {
          "output_type": "stream",
          "name": "stderr",
          "text": [
            "/tmp/ipython-input-3925094849.py:4: FutureWarning: YF.download() has changed argument auto_adjust default to True\n",
            "  df = yf.download(f'{acao}.SA', start=start, end=end)[['Close', 'Volume']]\n",
            "[*********************100%***********************]  1 of 1 completed\n"
          ]
        }
      ]
    },
    {
      "cell_type": "markdown",
      "source": [
        "## AÇÃO DA PETR3"
      ],
      "metadata": {
        "id": "hcTOHzYi7pSY"
      }
    },
    {
      "cell_type": "code",
      "source": [
        "acao = 'PETR3'\n",
        "\n",
        "os.makedirs(f'{acao}', exist_ok=True)\n",
        "\n",
        "abev = baixar_dados_acao(acao, start, end)\n",
        "df_abev3 = preparar_dataframe_completo(abev, dolar, petroleo, ibov, minerio)\n",
        "dados_escalados, scaler = normalizar_e_salvar(df_abev3, acao)\n",
        "gerar_janelas_e_salvar(dados_escalados, df_abev3, acao)"
      ],
      "metadata": {
        "id": "04csZmD97pYl",
        "colab": {
          "base_uri": "https://localhost:8080/"
        },
        "outputId": "ec1fec5a-ce6c-48a0-c723-1e5b981d907a"
      },
      "execution_count": 36,
      "outputs": [
        {
          "output_type": "stream",
          "name": "stderr",
          "text": [
            "/tmp/ipython-input-3925094849.py:4: FutureWarning: YF.download() has changed argument auto_adjust default to True\n",
            "  df = yf.download(f'{acao}.SA', start=start, end=end)[['Close', 'Volume']]\n",
            "[*********************100%***********************]  1 of 1 completed\n"
          ]
        }
      ]
    },
    {
      "cell_type": "markdown",
      "source": [
        "## AÇÃO DA PETR4"
      ],
      "metadata": {
        "id": "DF_WP92J7pe_"
      }
    },
    {
      "cell_type": "code",
      "source": [
        "acao = 'PETR4'\n",
        "\n",
        "os.makedirs(f'{acao}', exist_ok=True)\n",
        "\n",
        "abev = baixar_dados_acao(acao, start, end)\n",
        "df_abev3 = preparar_dataframe_completo(abev, dolar, petroleo, ibov, minerio)\n",
        "dados_escalados, scaler = normalizar_e_salvar(df_abev3, acao)\n",
        "gerar_janelas_e_salvar(dados_escalados, df_abev3, acao)"
      ],
      "metadata": {
        "id": "bNQmzOpP7pkY",
        "colab": {
          "base_uri": "https://localhost:8080/"
        },
        "outputId": "1297b0c6-028e-4212-aec5-250caaddcd75"
      },
      "execution_count": 37,
      "outputs": [
        {
          "output_type": "stream",
          "name": "stderr",
          "text": [
            "/tmp/ipython-input-3925094849.py:4: FutureWarning: YF.download() has changed argument auto_adjust default to True\n",
            "  df = yf.download(f'{acao}.SA', start=start, end=end)[['Close', 'Volume']]\n",
            "[*********************100%***********************]  1 of 1 completed\n"
          ]
        }
      ]
    },
    {
      "cell_type": "markdown",
      "source": [
        "## AÇÃO DA SBSP3"
      ],
      "metadata": {
        "id": "ZJlIwnp17ppp"
      }
    },
    {
      "cell_type": "code",
      "source": [
        "acao = 'SBSP3'\n",
        "\n",
        "os.makedirs(f'{acao}', exist_ok=True)\n",
        "\n",
        "abev = baixar_dados_acao(acao, start, end)\n",
        "df_abev3 = preparar_dataframe_completo(abev, dolar, petroleo, ibov, minerio)\n",
        "dados_escalados, scaler = normalizar_e_salvar(df_abev3, acao)\n",
        "gerar_janelas_e_salvar(dados_escalados, df_abev3, acao)"
      ],
      "metadata": {
        "id": "P1-9cL7q7pvY",
        "colab": {
          "base_uri": "https://localhost:8080/"
        },
        "outputId": "24c27947-3012-422e-fd71-df5a88aa52a7"
      },
      "execution_count": 38,
      "outputs": [
        {
          "output_type": "stream",
          "name": "stderr",
          "text": [
            "/tmp/ipython-input-3925094849.py:4: FutureWarning: YF.download() has changed argument auto_adjust default to True\n",
            "  df = yf.download(f'{acao}.SA', start=start, end=end)[['Close', 'Volume']]\n",
            "[*********************100%***********************]  1 of 1 completed\n"
          ]
        }
      ]
    },
    {
      "cell_type": "markdown",
      "source": [
        "## AÇÃO DA VALE3"
      ],
      "metadata": {
        "id": "3bt0rI6v7p0T"
      }
    },
    {
      "cell_type": "code",
      "source": [
        "acao = 'VALE3'\n",
        "\n",
        "os.makedirs(f'{acao}', exist_ok=True)\n",
        "\n",
        "abev = baixar_dados_acao(acao, start, end)\n",
        "df_abev3 = preparar_dataframe_completo(abev, dolar, petroleo, ibov, minerio)\n",
        "dados_escalados, scaler = normalizar_e_salvar(df_abev3, acao)\n",
        "gerar_janelas_e_salvar(dados_escalados, df_abev3, acao)"
      ],
      "metadata": {
        "id": "YBQIQNDK7p5L",
        "colab": {
          "base_uri": "https://localhost:8080/"
        },
        "outputId": "d4934b09-0b50-407d-cddd-13746a58b59c"
      },
      "execution_count": 39,
      "outputs": [
        {
          "output_type": "stream",
          "name": "stderr",
          "text": [
            "/tmp/ipython-input-3925094849.py:4: FutureWarning: YF.download() has changed argument auto_adjust default to True\n",
            "  df = yf.download(f'{acao}.SA', start=start, end=end)[['Close', 'Volume']]\n",
            "[*********************100%***********************]  1 of 1 completed\n"
          ]
        }
      ]
    }
  ]
}