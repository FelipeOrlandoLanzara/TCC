{
  "cells": [
    {
      "cell_type": "code",
      "execution_count": 1,
      "metadata": {
        "colab": {
          "base_uri": "https://localhost:8080/"
        },
        "id": "qADpVRNFkdTI",
        "outputId": "9c75b7d3-bc70-4bda-e8c6-fbebac994056"
      },
      "outputs": [],
      "source": [
        "## Instalações\n",
        "\n",
        "# Acessar os valores das ações, petróleo (brent), ibovespa e minério de ferro\n",
        "# !pip install yfinance\n",
        "\n",
        "# Acessar a variável de entrada do fechamento do dólar\n",
        "# !pip install python-bcb==0.3.3"
      ]
    },
    {
      "cell_type": "code",
      "execution_count": 2,
      "metadata": {
        "id": "moLLPLyCl1Ct"
      },
      "outputs": [],
      "source": [
        "## Bibliotecas\n",
        "\n",
        "# Pre Processamento dos dados\n",
        "import pandas as pd\n",
        "import numpy as np\n",
        "\n",
        "# Download das Ações\n",
        "import yfinance as yf\n",
        "from bcb import sgs\n",
        "\n",
        "# Montagem dos Dados\n",
        "from sklearn.preprocessing import MinMaxScaler\n",
        "from sklearn.model_selection import train_test_split\n",
        "\n",
        "# Baixar os Dados já montados\n",
        "import joblib\n",
        "import os"
      ]
    },
    {
      "cell_type": "code",
      "execution_count": 3,
      "metadata": {
        "id": "TafQqC7dqWQV"
      },
      "outputs": [],
      "source": [
        "## Definição de Variáveis fixas\n",
        "\n",
        "acao = ''\n",
        "\n",
        "start_treinamento = '2016-09-01'\n",
        "end_treinamento = '2023-09-01'\n",
        "\n",
        "start_validacao = '2023-09-02'\n",
        "end_validacao = '2025-09-02'\n",
        "\n",
        "ticker = f'{acao}.SA'"
      ]
    },
    {
      "cell_type": "code",
      "execution_count": 4,
      "metadata": {
        "colab": {
          "base_uri": "https://localhost:8080/"
        },
        "id": "Rwte1vW_sIRA",
        "outputId": "0646e6bb-7c17-4c20-974a-89aea67efa7e"
      },
      "outputs": [
        {
          "name": "stderr",
          "output_type": "stream",
          "text": [
            "C:\\Users\\felip\\AppData\\Local\\Temp\\ipykernel_9232\\4201631905.py:9: FutureWarning: YF.download() has changed argument auto_adjust default to True\n",
            "  petroleo_treinamento = yf.download('CL=F', start=start_treinamento, end=end_treinamento)[['Close']] # Preço do barril de petróleo WTI\n",
            "[*********************100%***********************]  1 of 1 completed\n",
            "C:\\Users\\felip\\AppData\\Local\\Temp\\ipykernel_9232\\4201631905.py:13: FutureWarning: YF.download() has changed argument auto_adjust default to True\n",
            "  ibov_treinamento = yf.download('^BVSP', start=start_treinamento, end=end_treinamento)[['Close']] # Índice ibovespa\n",
            "[*********************100%***********************]  1 of 1 completed\n",
            "C:\\Users\\felip\\AppData\\Local\\Temp\\ipykernel_9232\\4201631905.py:17: FutureWarning: YF.download() has changed argument auto_adjust default to True\n",
            "  minerio_treinamento = yf.download('RIO', start=start_treinamento, end=end_treinamento)[['Close']] # Ação da mineradora Rio Tinto\n",
            "[*********************100%***********************]  1 of 1 completed\n"
          ]
        }
      ],
      "source": [
        "## Definição das Features fixas PARA TESTE\n",
        "\n",
        "# Dólar\n",
        "dolar_treinamento = sgs.get({'Close_Dolar': 1}, start=start_treinamento, end=end_treinamento).reset_index() # Faz com que Date deixe de ser index e passe a ser uma coluna junto ao Close_Dolar\n",
        "dolar_treinamento['Date'] = pd.to_datetime(dolar_treinamento['Date']) # Muda o type da coluna Date para Datetime para ficar igual as demais variáveis\n",
        "dolar_treinamento.set_index('Date', inplace=True) # Retorna Date para index, pois é assim que as demais variáveis estão\n",
        "\n",
        "# Petróleo (WTI) pelo Yahoo Finance\n",
        "petroleo_treinamento = yf.download('CL=F', start=start_treinamento, end=end_treinamento)[['Close']] # Preço do barril de petróleo WTI\n",
        "petroleo_treinamento.columns = ['Close_Petroleo']\n",
        "\n",
        "# Ibovespa\n",
        "ibov_treinamento = yf.download('^BVSP', start=start_treinamento, end=end_treinamento)[['Close']] # Índice ibovespa\n",
        "ibov_treinamento.columns = ['Close_Ibovespa']\n",
        "\n",
        "# Minério de Ferro (supondo índice internacional)\n",
        "minerio_treinamento = yf.download('RIO', start=start_treinamento, end=end_treinamento)[['Close']] # Ação da mineradora Rio Tinto\n",
        "minerio_treinamento.columns = ['Close_Minerio']"
      ]
    },
    {
      "cell_type": "code",
      "execution_count": 5,
      "metadata": {},
      "outputs": [
        {
          "name": "stderr",
          "output_type": "stream",
          "text": [
            "C:\\Users\\felip\\AppData\\Local\\Temp\\ipykernel_9232\\627460923.py:9: FutureWarning: YF.download() has changed argument auto_adjust default to True\n",
            "  petroleo_validacao = yf.download('CL=F', start=start_validacao, end=end_validacao)[['Close']] # Preço do barril de petróleo WTI\n",
            "[*********************100%***********************]  1 of 1 completed\n",
            "C:\\Users\\felip\\AppData\\Local\\Temp\\ipykernel_9232\\627460923.py:13: FutureWarning: YF.download() has changed argument auto_adjust default to True\n",
            "  ibov_validacao = yf.download('^BVSP', start=start_validacao, end=end_validacao)[['Close']] # Índice ibovespa\n",
            "[*********************100%***********************]  1 of 1 completed\n",
            "C:\\Users\\felip\\AppData\\Local\\Temp\\ipykernel_9232\\627460923.py:17: FutureWarning: YF.download() has changed argument auto_adjust default to True\n",
            "  minerio_validacao = yf.download('RIO', start=start_validacao, end=end_validacao)[['Close']] # Ação da mineradora Rio Tinto\n",
            "[*********************100%***********************]  1 of 1 completed\n"
          ]
        }
      ],
      "source": [
        "## Definição das Features fixas PARA VALIDAÇÃO\n",
        "\n",
        "# Dólar\n",
        "dolar_validacao = sgs.get({'Close_Dolar': 1}, start=start_validacao, end=end_validacao).reset_index() # Faz com que Date deixe de ser index e passe a ser uma coluna junto ao Close_Dolar\n",
        "dolar_validacao['Date'] = pd.to_datetime(dolar_validacao['Date']) # Muda o type da coluna Date para Datetime para ficar igual as demais variáveis\n",
        "dolar_validacao.set_index('Date', inplace=True) # Retorna Date para index, pois é assim que as demais variáveis estão\n",
        "\n",
        "# Petróleo (WTI) pelo Yahoo Finance\n",
        "petroleo_validacao = yf.download('CL=F', start=start_validacao, end=end_validacao)[['Close']] # Preço do barril de petróleo WTI\n",
        "petroleo_validacao.columns = ['Close_Petroleo']\n",
        "\n",
        "# Ibovespa\n",
        "ibov_validacao = yf.download('^BVSP', start=start_validacao, end=end_validacao)[['Close']] # Índice ibovespa\n",
        "ibov_validacao.columns = ['Close_Ibovespa']\n",
        "\n",
        "# Minério de Ferro (supondo índice internacional)\n",
        "minerio_validacao = yf.download('RIO', start=start_validacao, end=end_validacao)[['Close']] # Ação da mineradora Rio Tinto\n",
        "minerio_validacao.columns = ['Close_Minerio']"
      ]
    },
    {
      "cell_type": "code",
      "execution_count": 6,
      "metadata": {
        "id": "Ol0Uhfic3gIN"
      },
      "outputs": [],
      "source": [
        "## Funções\n",
        "\n",
        "def baixar_dados_acao(acao, start, end):\n",
        "    df = yf.download(f'{acao}.SA', start=start, end=end)[['Close', 'Volume']]\n",
        "    df.columns = [f'Close_{acao}', f'Volume_{acao}']\n",
        "    return df\n",
        "\n",
        "def preparar_dataframe_completo(df_acao, dolar, petroleo, ibov, minerio):\n",
        "    df = df_acao.copy()\n",
        "    df = df.merge(dolar, left_index=True, right_index=True, how='left')\n",
        "    df = df.merge(petroleo, left_index=True, right_index=True, how='left')\n",
        "    df = df.merge(ibov, left_index=True, right_index=True, how='left')\n",
        "    df = df.merge(minerio, left_index=True, right_index=True, how='left')\n",
        "    df.dropna(inplace=True)\n",
        "    return df\n",
        "\n",
        "def normalizar_e_salvar(df, acao, pasta, split_ratio=0.8):\n",
        "    n_total = len(df)\n",
        "    split = int(n_total * split_ratio)\n",
        "    scaler = MinMaxScaler()\n",
        "    scaler.fit(df.iloc[:split].values.astype(np.float64))\n",
        "    dados_escalados = scaler.transform(df.values.astype(np.float64))\n",
        "    joblib.dump(scaler, f'./{pasta}/{acao}/scaler_{acao}.pkl')\n",
        "    return dados_escalados, scaler\n",
        "\n",
        "def createXY(dataset, n_past):\n",
        "    dataX, dataY = [], []\n",
        "    for i in range(n_past, len(dataset)):\n",
        "        dataX.append(dataset[i - n_past:i, :])\n",
        "        dataY.append(dataset[i, 0])\n",
        "    return np.array(dataX), np.array(dataY)\n",
        "\n",
        "def gerar_janelas_e_salvar(dados_escalados, df, acao, pasta, janela=21):\n",
        "    X, y = createXY(dados_escalados, janela)\n",
        "    y_real = df.iloc[janela:][f'Close_{acao}'].values.reshape(-1, 1)\n",
        "\n",
        "    split = int(len(X) * 0.8)\n",
        "    X_train, X_test = X[:split], X[split:]\n",
        "    y_train, y_test = y[:split], y[split:]\n",
        "    y_real_train, y_real_test = y_real[:split], y_real[split:]\n",
        "\n",
        "    df.to_csv(f'./Excel/{pasta}/df_completo_{acao}.csv', index_label=\"Date\")\n",
        "\n",
        "    np.save(f'./{pasta}/{acao}/X_train_{acao}.npy', X_train)\n",
        "    np.save(f'./{pasta}/{acao}/y_train_{acao}.npy', y_train)\n",
        "    np.save(f'./{pasta}/{acao}/X_test_{acao}.npy', X_test)\n",
        "    np.save(f'./{pasta}/{acao}/y_test_{acao}.npy', y_test)\n",
        "    np.save(f'./{pasta}/{acao}/y_real_train_{acao}.npy', y_real_train)\n",
        "    np.save(f'./{pasta}/{acao}/y_real_{acao}.npy', y_real_test)"
      ]
    },
    {
      "cell_type": "code",
      "execution_count": 7,
      "metadata": {},
      "outputs": [],
      "source": [
        "os.makedirs(\"Treinamento\", exist_ok=True)\n",
        "os.makedirs(\"Validação\", exist_ok=True)\n",
        "\n",
        "os.makedirs(\"Excel\", exist_ok=True)\n",
        "os.makedirs(f'Excel/Treinamento', exist_ok=True)\n",
        "os.makedirs(f'Excel/Validação', exist_ok=True)"
      ]
    },
    {
      "cell_type": "markdown",
      "metadata": {
        "id": "c8qRM13ssYfG"
      },
      "source": [
        "## AÇÃO DA ABEV3\n"
      ]
    },
    {
      "cell_type": "code",
      "execution_count": 8,
      "metadata": {
        "colab": {
          "base_uri": "https://localhost:8080/"
        },
        "id": "E7S0tYM44G7c",
        "outputId": "08e7da2d-4182-45d9-f91f-385907bdedc2"
      },
      "outputs": [
        {
          "name": "stderr",
          "output_type": "stream",
          "text": [
            "C:\\Users\\felip\\AppData\\Local\\Temp\\ipykernel_9232\\1810153427.py:4: FutureWarning: YF.download() has changed argument auto_adjust default to True\n",
            "  df = yf.download(f'{acao}.SA', start=start, end=end)[['Close', 'Volume']]\n",
            "[*********************100%***********************]  1 of 1 completed\n"
          ]
        }
      ],
      "source": [
        "# DOWNLOAD DOS DADOS DE TREINAMENTO\n",
        "\n",
        "acao = 'ABEV3'\n",
        "pasta = 'Treinamento'\n",
        "\n",
        "os.makedirs(f'{pasta}/{acao}', exist_ok=True)\n",
        "\n",
        "dados = baixar_dados_acao(acao, start_treinamento, end_treinamento)\n",
        "df = preparar_dataframe_completo(dados, dolar_treinamento, petroleo_treinamento, ibov_treinamento, minerio_treinamento)\n",
        "dados_escalados, scaler = normalizar_e_salvar(df, acao, pasta)\n",
        "gerar_janelas_e_salvar(dados_escalados, df, acao, pasta)"
      ]
    },
    {
      "cell_type": "code",
      "execution_count": 9,
      "metadata": {},
      "outputs": [
        {
          "name": "stderr",
          "output_type": "stream",
          "text": [
            "C:\\Users\\felip\\AppData\\Local\\Temp\\ipykernel_9232\\1810153427.py:4: FutureWarning: YF.download() has changed argument auto_adjust default to True\n",
            "  df = yf.download(f'{acao}.SA', start=start, end=end)[['Close', 'Volume']]\n",
            "[*********************100%***********************]  1 of 1 completed\n"
          ]
        }
      ],
      "source": [
        "# DOWNLOAD DOS DADOS DE VALIDAÇÃO\n",
        "\n",
        "acao = 'ABEV3'\n",
        "pasta = 'Validação'\n",
        "\n",
        "os.makedirs(f'{pasta}/{acao}', exist_ok=True)\n",
        "\n",
        "dados = baixar_dados_acao(acao, start_validacao, end_validacao)\n",
        "df = preparar_dataframe_completo(dados, dolar_validacao, petroleo_validacao, ibov_validacao, minerio_validacao)\n",
        "dados_escalados, scaler = normalizar_e_salvar(df, acao, pasta)\n",
        "gerar_janelas_e_salvar(dados_escalados, df, acao, pasta)"
      ]
    },
    {
      "cell_type": "markdown",
      "metadata": {
        "id": "iDZhA-Ez116k"
      },
      "source": [
        "## AÇÃO DA B3SA3"
      ]
    },
    {
      "cell_type": "code",
      "execution_count": 10,
      "metadata": {
        "colab": {
          "base_uri": "https://localhost:8080/"
        },
        "id": "f7Y_EuQB7mSE",
        "outputId": "62e85e42-4022-4a74-f919-f39bd9b52536"
      },
      "outputs": [
        {
          "name": "stderr",
          "output_type": "stream",
          "text": [
            "C:\\Users\\felip\\AppData\\Local\\Temp\\ipykernel_9232\\1810153427.py:4: FutureWarning: YF.download() has changed argument auto_adjust default to True\n",
            "  df = yf.download(f'{acao}.SA', start=start, end=end)[['Close', 'Volume']]\n",
            "[*********************100%***********************]  1 of 1 completed\n"
          ]
        }
      ],
      "source": [
        "# DOWNLOAD DOS DADOS DE TREINAMENTO\n",
        "\n",
        "acao = 'B3SA3'\n",
        "pasta = 'Treinamento'\n",
        "\n",
        "os.makedirs(f'{pasta}/{acao}', exist_ok=True)\n",
        "\n",
        "dados = baixar_dados_acao(acao, start_treinamento, end_treinamento)\n",
        "df = preparar_dataframe_completo(dados, dolar_treinamento, petroleo_treinamento, ibov_treinamento, minerio_treinamento)\n",
        "dados_escalados, scaler = normalizar_e_salvar(df, acao, pasta)\n",
        "gerar_janelas_e_salvar(dados_escalados, df, acao, pasta)"
      ]
    },
    {
      "cell_type": "code",
      "execution_count": 11,
      "metadata": {},
      "outputs": [
        {
          "name": "stderr",
          "output_type": "stream",
          "text": [
            "C:\\Users\\felip\\AppData\\Local\\Temp\\ipykernel_9232\\1810153427.py:4: FutureWarning: YF.download() has changed argument auto_adjust default to True\n",
            "  df = yf.download(f'{acao}.SA', start=start, end=end)[['Close', 'Volume']]\n",
            "[*********************100%***********************]  1 of 1 completed\n"
          ]
        }
      ],
      "source": [
        "# DOWNLOAD DOS DADOS DE VALIDAÇÃO\n",
        "\n",
        "acao = 'B3SA3'\n",
        "pasta = 'Validação'\n",
        "\n",
        "os.makedirs(f'{pasta}/{acao}', exist_ok=True)\n",
        "\n",
        "dados = baixar_dados_acao(acao, start_validacao, end_validacao)\n",
        "df = preparar_dataframe_completo(dados, dolar_validacao, petroleo_validacao, ibov_validacao, minerio_validacao)\n",
        "dados_escalados, scaler = normalizar_e_salvar(df, acao, pasta)\n",
        "gerar_janelas_e_salvar(dados_escalados, df, acao, pasta)"
      ]
    },
    {
      "cell_type": "markdown",
      "metadata": {
        "id": "Odt_5dgp7nnx"
      },
      "source": [
        "## AÇÃO DA BBAS3"
      ]
    },
    {
      "cell_type": "code",
      "execution_count": 12,
      "metadata": {
        "colab": {
          "base_uri": "https://localhost:8080/"
        },
        "id": "K-HccY5s7oD2",
        "outputId": "b4ef52c1-9f1c-494f-b999-11144f6eda8d"
      },
      "outputs": [
        {
          "name": "stderr",
          "output_type": "stream",
          "text": [
            "C:\\Users\\felip\\AppData\\Local\\Temp\\ipykernel_9232\\1810153427.py:4: FutureWarning: YF.download() has changed argument auto_adjust default to True\n",
            "  df = yf.download(f'{acao}.SA', start=start, end=end)[['Close', 'Volume']]\n",
            "[*********************100%***********************]  1 of 1 completed\n"
          ]
        }
      ],
      "source": [
        "# DOWNLOAD DOS DADOS DE TREINAMENTO\n",
        "\n",
        "acao = 'BBAS3'\n",
        "pasta = 'Treinamento'\n",
        "\n",
        "os.makedirs(f'{pasta}/{acao}', exist_ok=True)\n",
        "\n",
        "dados = baixar_dados_acao(acao, start_treinamento, end_treinamento)\n",
        "df = preparar_dataframe_completo(dados, dolar_treinamento, petroleo_treinamento, ibov_treinamento, minerio_treinamento)\n",
        "dados_escalados, scaler = normalizar_e_salvar(df, acao, pasta)\n",
        "gerar_janelas_e_salvar(dados_escalados, df, acao, pasta)"
      ]
    },
    {
      "cell_type": "code",
      "execution_count": 13,
      "metadata": {},
      "outputs": [
        {
          "name": "stderr",
          "output_type": "stream",
          "text": [
            "C:\\Users\\felip\\AppData\\Local\\Temp\\ipykernel_9232\\1810153427.py:4: FutureWarning: YF.download() has changed argument auto_adjust default to True\n",
            "  df = yf.download(f'{acao}.SA', start=start, end=end)[['Close', 'Volume']]\n",
            "[*********************100%***********************]  1 of 1 completed\n"
          ]
        }
      ],
      "source": [
        "# DOWNLOAD DOS DADOS DE VALIDAÇÃO\n",
        "\n",
        "acao = 'BBAS3'\n",
        "pasta = 'Validação'\n",
        "\n",
        "os.makedirs(f'{pasta}/{acao}', exist_ok=True)\n",
        "\n",
        "dados = baixar_dados_acao(acao, start_validacao, end_validacao)\n",
        "df = preparar_dataframe_completo(dados, dolar_validacao, petroleo_validacao, ibov_validacao, minerio_validacao)\n",
        "dados_escalados, scaler = normalizar_e_salvar(df, acao, pasta)\n",
        "gerar_janelas_e_salvar(dados_escalados, df, acao, pasta)"
      ]
    },
    {
      "cell_type": "markdown",
      "metadata": {
        "id": "Sd6ne2QP7oYl"
      },
      "source": [
        "## AÇÃO DA BBDC4"
      ]
    },
    {
      "cell_type": "code",
      "execution_count": 14,
      "metadata": {
        "colab": {
          "base_uri": "https://localhost:8080/"
        },
        "id": "Uk7K3pGU7onw",
        "outputId": "1ce2214a-50fa-4a75-ec5f-fd97338eb0e2"
      },
      "outputs": [
        {
          "name": "stderr",
          "output_type": "stream",
          "text": [
            "C:\\Users\\felip\\AppData\\Local\\Temp\\ipykernel_9232\\1810153427.py:4: FutureWarning: YF.download() has changed argument auto_adjust default to True\n",
            "  df = yf.download(f'{acao}.SA', start=start, end=end)[['Close', 'Volume']]\n",
            "[*********************100%***********************]  1 of 1 completed\n"
          ]
        }
      ],
      "source": [
        "# DOWNLOAD DOS DADOS DE TREINAMENTO\n",
        "\n",
        "acao = 'BBDC4'\n",
        "pasta = 'Treinamento'\n",
        "\n",
        "os.makedirs(f'{pasta}/{acao}', exist_ok=True)\n",
        "\n",
        "dados = baixar_dados_acao(acao, start_treinamento, end_treinamento)\n",
        "df = preparar_dataframe_completo(dados, dolar_treinamento, petroleo_treinamento, ibov_treinamento, minerio_treinamento)\n",
        "dados_escalados, scaler = normalizar_e_salvar(df, acao, pasta)\n",
        "gerar_janelas_e_salvar(dados_escalados, df, acao, pasta)"
      ]
    },
    {
      "cell_type": "code",
      "execution_count": 15,
      "metadata": {},
      "outputs": [
        {
          "name": "stderr",
          "output_type": "stream",
          "text": [
            "C:\\Users\\felip\\AppData\\Local\\Temp\\ipykernel_9232\\1810153427.py:4: FutureWarning: YF.download() has changed argument auto_adjust default to True\n",
            "  df = yf.download(f'{acao}.SA', start=start, end=end)[['Close', 'Volume']]\n",
            "[*********************100%***********************]  1 of 1 completed\n"
          ]
        }
      ],
      "source": [
        "# DOWNLOAD DOS DADOS DE VALIDAÇÃO\n",
        "\n",
        "acao = 'BBDC4'\n",
        "pasta = 'Validação'\n",
        "\n",
        "os.makedirs(f'{pasta}/{acao}', exist_ok=True)\n",
        "\n",
        "dados = baixar_dados_acao(acao, start_validacao, end_validacao)\n",
        "df = preparar_dataframe_completo(dados, dolar_validacao, petroleo_validacao, ibov_validacao, minerio_validacao)\n",
        "dados_escalados, scaler = normalizar_e_salvar(df, acao, pasta)\n",
        "gerar_janelas_e_salvar(dados_escalados, df, acao, pasta)"
      ]
    },
    {
      "cell_type": "markdown",
      "metadata": {
        "id": "46QN0TkU7o28"
      },
      "source": [
        "## AÇÃO DA ELET3"
      ]
    },
    {
      "cell_type": "code",
      "execution_count": 16,
      "metadata": {
        "colab": {
          "base_uri": "https://localhost:8080/"
        },
        "id": "KB0GlFlt7o-E",
        "outputId": "3e549847-0caf-411d-cc20-f67ead2cb68e"
      },
      "outputs": [
        {
          "name": "stderr",
          "output_type": "stream",
          "text": [
            "C:\\Users\\felip\\AppData\\Local\\Temp\\ipykernel_9232\\1810153427.py:4: FutureWarning: YF.download() has changed argument auto_adjust default to True\n",
            "  df = yf.download(f'{acao}.SA', start=start, end=end)[['Close', 'Volume']]\n",
            "[*********************100%***********************]  1 of 1 completed\n"
          ]
        }
      ],
      "source": [
        "# DOWNLOAD DOS DADOS DE TREINAMENTO\n",
        "\n",
        "acao = 'ELET3'\n",
        "pasta = 'Treinamento'\n",
        "\n",
        "os.makedirs(f'{pasta}/{acao}', exist_ok=True)\n",
        "\n",
        "dados = baixar_dados_acao(acao, start_treinamento, end_treinamento)\n",
        "df = preparar_dataframe_completo(dados, dolar_treinamento, petroleo_treinamento, ibov_treinamento, minerio_treinamento)\n",
        "dados_escalados, scaler = normalizar_e_salvar(df, acao, pasta)\n",
        "gerar_janelas_e_salvar(dados_escalados, df, acao, pasta)"
      ]
    },
    {
      "cell_type": "code",
      "execution_count": 17,
      "metadata": {},
      "outputs": [
        {
          "name": "stderr",
          "output_type": "stream",
          "text": [
            "C:\\Users\\felip\\AppData\\Local\\Temp\\ipykernel_9232\\1810153427.py:4: FutureWarning: YF.download() has changed argument auto_adjust default to True\n",
            "  df = yf.download(f'{acao}.SA', start=start, end=end)[['Close', 'Volume']]\n",
            "[*********************100%***********************]  1 of 1 completed\n"
          ]
        }
      ],
      "source": [
        "# DOWNLOAD DOS DADOS DE VALIDAÇÃO\n",
        "\n",
        "acao = 'ELET3'\n",
        "pasta = 'Validação'\n",
        "\n",
        "os.makedirs(f'{pasta}/{acao}', exist_ok=True)\n",
        "\n",
        "dados = baixar_dados_acao(acao, start_validacao, end_validacao)\n",
        "df = preparar_dataframe_completo(dados, dolar_validacao, petroleo_validacao, ibov_validacao, minerio_validacao)\n",
        "dados_escalados, scaler = normalizar_e_salvar(df, acao, pasta)\n",
        "gerar_janelas_e_salvar(dados_escalados, df, acao, pasta)"
      ]
    },
    {
      "cell_type": "markdown",
      "metadata": {
        "id": "R-rMQcsw7pFj"
      },
      "source": [
        "## AÇÃO DA ITUB4"
      ]
    },
    {
      "cell_type": "code",
      "execution_count": 18,
      "metadata": {
        "colab": {
          "base_uri": "https://localhost:8080/"
        },
        "id": "kng5CuvX7pMa",
        "outputId": "e67c26cd-8557-4a71-a90d-2bc473815317"
      },
      "outputs": [
        {
          "name": "stderr",
          "output_type": "stream",
          "text": [
            "C:\\Users\\felip\\AppData\\Local\\Temp\\ipykernel_9232\\1810153427.py:4: FutureWarning: YF.download() has changed argument auto_adjust default to True\n",
            "  df = yf.download(f'{acao}.SA', start=start, end=end)[['Close', 'Volume']]\n",
            "[*********************100%***********************]  1 of 1 completed\n"
          ]
        }
      ],
      "source": [
        "# DOWNLOAD DOS DADOS DE TREINAMENTO\n",
        "\n",
        "acao = 'ITUB4'\n",
        "pasta = 'Treinamento'\n",
        "\n",
        "os.makedirs(f'{pasta}/{acao}', exist_ok=True)\n",
        "\n",
        "dados = baixar_dados_acao(acao, start_treinamento, end_treinamento)\n",
        "df = preparar_dataframe_completo(dados, dolar_treinamento, petroleo_treinamento, ibov_treinamento, minerio_treinamento)\n",
        "dados_escalados, scaler = normalizar_e_salvar(df, acao, pasta)\n",
        "gerar_janelas_e_salvar(dados_escalados, df, acao, pasta)"
      ]
    },
    {
      "cell_type": "code",
      "execution_count": 19,
      "metadata": {},
      "outputs": [
        {
          "name": "stderr",
          "output_type": "stream",
          "text": [
            "C:\\Users\\felip\\AppData\\Local\\Temp\\ipykernel_9232\\1810153427.py:4: FutureWarning: YF.download() has changed argument auto_adjust default to True\n",
            "  df = yf.download(f'{acao}.SA', start=start, end=end)[['Close', 'Volume']]\n",
            "[*********************100%***********************]  1 of 1 completed\n"
          ]
        }
      ],
      "source": [
        "# DOWNLOAD DOS DADOS DE VALIDAÇÃO\n",
        "\n",
        "acao = 'ITUB4'\n",
        "pasta = 'Validação'\n",
        "\n",
        "os.makedirs(f'{pasta}/{acao}', exist_ok=True)\n",
        "\n",
        "dados = baixar_dados_acao(acao, start_validacao, end_validacao)\n",
        "df = preparar_dataframe_completo(dados, dolar_validacao, petroleo_validacao, ibov_validacao, minerio_validacao)\n",
        "dados_escalados, scaler = normalizar_e_salvar(df, acao, pasta)\n",
        "gerar_janelas_e_salvar(dados_escalados, df, acao, pasta)"
      ]
    },
    {
      "cell_type": "markdown",
      "metadata": {
        "id": "hcTOHzYi7pSY"
      },
      "source": [
        "## AÇÃO DA PETR3"
      ]
    },
    {
      "cell_type": "code",
      "execution_count": 20,
      "metadata": {
        "colab": {
          "base_uri": "https://localhost:8080/"
        },
        "id": "04csZmD97pYl",
        "outputId": "ec1fec5a-ce6c-48a0-c723-1e5b981d907a"
      },
      "outputs": [
        {
          "name": "stderr",
          "output_type": "stream",
          "text": [
            "C:\\Users\\felip\\AppData\\Local\\Temp\\ipykernel_9232\\1810153427.py:4: FutureWarning: YF.download() has changed argument auto_adjust default to True\n",
            "  df = yf.download(f'{acao}.SA', start=start, end=end)[['Close', 'Volume']]\n",
            "[*********************100%***********************]  1 of 1 completed\n"
          ]
        }
      ],
      "source": [
        "# DOWNLOAD DOS DADOS DE TREINAMENTO\n",
        "\n",
        "acao = 'PETR3'\n",
        "pasta = 'Treinamento'\n",
        "\n",
        "os.makedirs(f'{pasta}/{acao}', exist_ok=True)\n",
        "\n",
        "dados = baixar_dados_acao(acao, start_treinamento, end_treinamento)\n",
        "df = preparar_dataframe_completo(dados, dolar_treinamento, petroleo_treinamento, ibov_treinamento, minerio_treinamento)\n",
        "dados_escalados, scaler = normalizar_e_salvar(df, acao, pasta)\n",
        "gerar_janelas_e_salvar(dados_escalados, df, acao, pasta)"
      ]
    },
    {
      "cell_type": "code",
      "execution_count": 21,
      "metadata": {},
      "outputs": [
        {
          "name": "stderr",
          "output_type": "stream",
          "text": [
            "C:\\Users\\felip\\AppData\\Local\\Temp\\ipykernel_9232\\1810153427.py:4: FutureWarning: YF.download() has changed argument auto_adjust default to True\n",
            "  df = yf.download(f'{acao}.SA', start=start, end=end)[['Close', 'Volume']]\n",
            "[*********************100%***********************]  1 of 1 completed\n"
          ]
        }
      ],
      "source": [
        "# DOWNLOAD DOS DADOS DE VALIDAÇÃO\n",
        "\n",
        "acao = 'PETR3'\n",
        "pasta = 'Validação'\n",
        "\n",
        "os.makedirs(f'{pasta}/{acao}', exist_ok=True)\n",
        "\n",
        "dados = baixar_dados_acao(acao, start_validacao, end_validacao)\n",
        "df = preparar_dataframe_completo(dados, dolar_validacao, petroleo_validacao, ibov_validacao, minerio_validacao)\n",
        "dados_escalados, scaler = normalizar_e_salvar(df, acao, pasta)\n",
        "gerar_janelas_e_salvar(dados_escalados, df, acao, pasta)"
      ]
    },
    {
      "cell_type": "markdown",
      "metadata": {
        "id": "DF_WP92J7pe_"
      },
      "source": [
        "## AÇÃO DA PETR4"
      ]
    },
    {
      "cell_type": "code",
      "execution_count": 22,
      "metadata": {
        "colab": {
          "base_uri": "https://localhost:8080/"
        },
        "id": "bNQmzOpP7pkY",
        "outputId": "1297b0c6-028e-4212-aec5-250caaddcd75"
      },
      "outputs": [
        {
          "name": "stderr",
          "output_type": "stream",
          "text": [
            "C:\\Users\\felip\\AppData\\Local\\Temp\\ipykernel_9232\\1810153427.py:4: FutureWarning: YF.download() has changed argument auto_adjust default to True\n",
            "  df = yf.download(f'{acao}.SA', start=start, end=end)[['Close', 'Volume']]\n",
            "[*********************100%***********************]  1 of 1 completed\n"
          ]
        }
      ],
      "source": [
        "# DOWNLOAD DOS DADOS DE TREINAMENTO\n",
        "\n",
        "acao = 'PETR4'\n",
        "pasta = 'Treinamento'\n",
        "\n",
        "os.makedirs(f'{pasta}/{acao}', exist_ok=True)\n",
        "\n",
        "dados = baixar_dados_acao(acao, start_treinamento, end_treinamento)\n",
        "df = preparar_dataframe_completo(dados, dolar_treinamento, petroleo_treinamento, ibov_treinamento, minerio_treinamento)\n",
        "dados_escalados, scaler = normalizar_e_salvar(df, acao, pasta)\n",
        "gerar_janelas_e_salvar(dados_escalados, df, acao, pasta)"
      ]
    },
    {
      "cell_type": "code",
      "execution_count": 23,
      "metadata": {},
      "outputs": [
        {
          "name": "stderr",
          "output_type": "stream",
          "text": [
            "C:\\Users\\felip\\AppData\\Local\\Temp\\ipykernel_9232\\1810153427.py:4: FutureWarning: YF.download() has changed argument auto_adjust default to True\n",
            "  df = yf.download(f'{acao}.SA', start=start, end=end)[['Close', 'Volume']]\n",
            "[*********************100%***********************]  1 of 1 completed\n"
          ]
        }
      ],
      "source": [
        "# DOWNLOAD DOS DADOS DE VALIDAÇÃO\n",
        "\n",
        "acao = 'PETR4'\n",
        "pasta = 'Validação'\n",
        "\n",
        "os.makedirs(f'{pasta}/{acao}', exist_ok=True)\n",
        "\n",
        "dados = baixar_dados_acao(acao, start_validacao, end_validacao)\n",
        "df = preparar_dataframe_completo(dados, dolar_validacao, petroleo_validacao, ibov_validacao, minerio_validacao)\n",
        "dados_escalados, scaler = normalizar_e_salvar(df, acao, pasta)\n",
        "gerar_janelas_e_salvar(dados_escalados, df, acao, pasta)"
      ]
    },
    {
      "cell_type": "markdown",
      "metadata": {
        "id": "ZJlIwnp17ppp"
      },
      "source": [
        "## AÇÃO DA SBSP3"
      ]
    },
    {
      "cell_type": "code",
      "execution_count": 24,
      "metadata": {
        "colab": {
          "base_uri": "https://localhost:8080/"
        },
        "id": "P1-9cL7q7pvY",
        "outputId": "24c27947-3012-422e-fd71-df5a88aa52a7"
      },
      "outputs": [
        {
          "name": "stderr",
          "output_type": "stream",
          "text": [
            "C:\\Users\\felip\\AppData\\Local\\Temp\\ipykernel_9232\\1810153427.py:4: FutureWarning: YF.download() has changed argument auto_adjust default to True\n",
            "  df = yf.download(f'{acao}.SA', start=start, end=end)[['Close', 'Volume']]\n",
            "[*********************100%***********************]  1 of 1 completed\n"
          ]
        }
      ],
      "source": [
        "# DOWNLOAD DOS DADOS DE TREINAMENTO\n",
        "\n",
        "acao = 'SBSP3'\n",
        "pasta = 'Treinamento'\n",
        "\n",
        "os.makedirs(f'{pasta}/{acao}', exist_ok=True)\n",
        "\n",
        "dados = baixar_dados_acao(acao, start_treinamento, end_treinamento)\n",
        "df = preparar_dataframe_completo(dados, dolar_treinamento, petroleo_treinamento, ibov_treinamento, minerio_treinamento)\n",
        "dados_escalados, scaler = normalizar_e_salvar(df, acao, pasta)\n",
        "gerar_janelas_e_salvar(dados_escalados, df, acao, pasta)"
      ]
    },
    {
      "cell_type": "code",
      "execution_count": 25,
      "metadata": {},
      "outputs": [
        {
          "name": "stderr",
          "output_type": "stream",
          "text": [
            "C:\\Users\\felip\\AppData\\Local\\Temp\\ipykernel_9232\\1810153427.py:4: FutureWarning: YF.download() has changed argument auto_adjust default to True\n",
            "  df = yf.download(f'{acao}.SA', start=start, end=end)[['Close', 'Volume']]\n",
            "[*********************100%***********************]  1 of 1 completed\n"
          ]
        }
      ],
      "source": [
        "# DOWNLOAD DOS DADOS DE VALIDAÇÃO\n",
        "\n",
        "acao = 'SBSP3'\n",
        "pasta = 'Validação'\n",
        "\n",
        "os.makedirs(f'{pasta}/{acao}', exist_ok=True)\n",
        "\n",
        "dados = baixar_dados_acao(acao, start_validacao, end_validacao)\n",
        "df = preparar_dataframe_completo(dados, dolar_validacao, petroleo_validacao, ibov_validacao, minerio_validacao)\n",
        "dados_escalados, scaler = normalizar_e_salvar(df, acao, pasta)\n",
        "gerar_janelas_e_salvar(dados_escalados, df, acao, pasta)"
      ]
    },
    {
      "cell_type": "markdown",
      "metadata": {
        "id": "3bt0rI6v7p0T"
      },
      "source": [
        "## AÇÃO DA VALE3"
      ]
    },
    {
      "cell_type": "code",
      "execution_count": 26,
      "metadata": {
        "colab": {
          "base_uri": "https://localhost:8080/"
        },
        "id": "YBQIQNDK7p5L",
        "outputId": "d4934b09-0b50-407d-cddd-13746a58b59c"
      },
      "outputs": [
        {
          "name": "stderr",
          "output_type": "stream",
          "text": [
            "C:\\Users\\felip\\AppData\\Local\\Temp\\ipykernel_9232\\1810153427.py:4: FutureWarning: YF.download() has changed argument auto_adjust default to True\n",
            "  df = yf.download(f'{acao}.SA', start=start, end=end)[['Close', 'Volume']]\n",
            "[*********************100%***********************]  1 of 1 completed\n"
          ]
        }
      ],
      "source": [
        "# DOWNLOAD DOS DADOS DE TREINAMENTO\n",
        "\n",
        "acao = 'VALE3'\n",
        "pasta = 'Treinamento'\n",
        "\n",
        "os.makedirs(f'{pasta}/{acao}', exist_ok=True)\n",
        "\n",
        "dados = baixar_dados_acao(acao, start_treinamento, end_treinamento)\n",
        "df = preparar_dataframe_completo(dados, dolar_treinamento, petroleo_treinamento, ibov_treinamento, minerio_treinamento)\n",
        "dados_escalados, scaler = normalizar_e_salvar(df, acao, pasta)\n",
        "gerar_janelas_e_salvar(dados_escalados, df, acao, pasta)"
      ]
    },
    {
      "cell_type": "code",
      "execution_count": 27,
      "metadata": {},
      "outputs": [
        {
          "name": "stderr",
          "output_type": "stream",
          "text": [
            "C:\\Users\\felip\\AppData\\Local\\Temp\\ipykernel_9232\\1810153427.py:4: FutureWarning: YF.download() has changed argument auto_adjust default to True\n",
            "  df = yf.download(f'{acao}.SA', start=start, end=end)[['Close', 'Volume']]\n",
            "[*********************100%***********************]  1 of 1 completed\n"
          ]
        }
      ],
      "source": [
        "# DOWNLOAD DOS DADOS DE VALIDAÇÃO\n",
        "\n",
        "acao = 'VALE3'\n",
        "pasta = 'Validação'\n",
        "\n",
        "os.makedirs(f'{pasta}/{acao}', exist_ok=True)\n",
        "\n",
        "dados = baixar_dados_acao(acao, start_validacao, end_validacao)\n",
        "df = preparar_dataframe_completo(dados, dolar_validacao, petroleo_validacao, ibov_validacao, minerio_validacao)\n",
        "dados_escalados, scaler = normalizar_e_salvar(df, acao, pasta)\n",
        "gerar_janelas_e_salvar(dados_escalados, df, acao, pasta)"
      ]
    }
  ],
  "metadata": {
    "colab": {
      "provenance": []
    },
    "kernelspec": {
      "display_name": ".venv",
      "language": "python",
      "name": "python3"
    },
    "language_info": {
      "codemirror_mode": {
        "name": "ipython",
        "version": 3
      },
      "file_extension": ".py",
      "mimetype": "text/x-python",
      "name": "python",
      "nbconvert_exporter": "python",
      "pygments_lexer": "ipython3",
      "version": "3.11.9"
    }
  },
  "nbformat": 4,
  "nbformat_minor": 0
}
